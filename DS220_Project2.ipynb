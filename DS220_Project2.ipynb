{
  "nbformat": 4,
  "nbformat_minor": 0,
  "metadata": {
    "colab": {
      "provenance": []
    },
    "kernelspec": {
      "name": "python3",
      "display_name": "Python 3"
    },
    "language_info": {
      "name": "python"
    }
  },
  "cells": [
    {
      "cell_type": "markdown",
      "source": [
        "# **Exploring Titanic Survival Patterns: A Data Analysis Project**\n",
        "\n",
        "WHAT IS THE BIGGEST FACTOR THAT IMPACTED SURVIVAL IN THE TITANIC?\n",
        "\n",
        "\n",
        "\n"
      ],
      "metadata": {
        "id": "ScU1f8BzsPRw"
      }
    },
    {
      "cell_type": "markdown",
      "source": [
        "## **Introduction**:\n",
        "\n",
        "The sinking of the Titanic remains one of the most tragic maritime disasters in history, capturing the imagination and curiosity of people worldwide. This data analysis project delves into the passenger manifest of the Titanic, aiming to uncover patterns and insights that shed light on the factors influencing survival during that fateful voyage.\n",
        "\n",
        "The Titanic dataset, sourced from the renowned Kaggle platform, provides a comprehensive snapshot of passenger information, including demographics, socio-economic status, and crucial details related to the journey. By leveraging the power of data analytics, this project seeks to answer pivotal questions and extract meaningful observations that contribute to our understanding of the dynamics at play during this iconic event.\n",
        "\n",
        "Through a series of carefully crafted questions, we explore the impact of gender, age, passenger class, fares, and other variables on survival rates. Each question is a step towards unraveling the complex interplay of factors that determined who lived and who tragically perished.\n",
        "\n",
        "This journey into the Titanic dataset involves not only statistical analysis but also the creation of actionable insights that can inform future discussions, emergency planning, or historical understanding. The findings aim to distill complex patterns into digestible narratives, making the project accessible to a wide audience interested in the human aspects of this historical event.\n",
        "\n",
        "Whether you are a data enthusiast, a Titanic history buff, or someone curious about the stories hidden within datasets, this project invites you to explore, analyze, and reflect on the factors that shaped the fate of those aboard the ill-fated Titanic."
      ],
      "metadata": {
        "id": "hUz79xBT5sc0"
      }
    },
    {
      "cell_type": "markdown",
      "source": [
        "## **Raw Dataset**\n",
        "\n",
        "titanic.csv\n",
        "\n",
        "Link: https://www.kaggle.com/c/titanic/data?select=train.csv"
      ],
      "metadata": {
        "id": "m_-7t2qJsfzh"
      }
    },
    {
      "cell_type": "markdown",
      "source": [
        "## **Loading Data and Preprocessing**"
      ],
      "metadata": {
        "id": "z3IcdxCmzcAX"
      }
    },
    {
      "cell_type": "markdown",
      "source": [
        "### 1. Importing the dataset into DataFrame:\n",
        "\n",
        "The very first task is to import the required libraries. In this case, we need Pandas, Seaborn, and Matplotlib, so you can see in the following coding snippet that we imported these libraries:"
      ],
      "metadata": {
        "id": "ds7f3rUj9IiE"
      }
    },
    {
      "cell_type": "code",
      "execution_count": null,
      "metadata": {
        "id": "Vzj1p790r2AN"
      },
      "outputs": [],
      "source": [
        "import pandas as pd\n",
        "import matplotlib.pyplot as plt\n",
        "import seaborn as sns\n",
        "\n",
        "# Load data into a Pandas DataFrame\n",
        "titanic_df = pd.read_csv(\"titanic.csv\")"
      ]
    },
    {
      "cell_type": "markdown",
      "source": [
        "  Also, in line #6, we imported the dataset CSV into the Pandas DataFrame."
      ],
      "metadata": {
        "id": "OgFwYxz-9WT6"
      }
    },
    {
      "cell_type": "markdown",
      "source": [
        "### 2. Exploring, selecting, cleaning, and preparing the data:"
      ],
      "metadata": {
        "id": "u4E_5aCk962T"
      }
    },
    {
      "cell_type": "markdown",
      "source": [
        "#### a. See the columns:\n",
        "\n",
        "We can use the titanic_df.columns to get all columns from the dataframe."
      ],
      "metadata": {
        "id": "4UXpONDHHp48"
      }
    },
    {
      "cell_type": "code",
      "source": [
        "titanic_df.columns"
      ],
      "metadata": {
        "colab": {
          "base_uri": "https://localhost:8080/"
        },
        "id": "7fftInrmICiL",
        "outputId": "d042f217-d6ff-49c0-a425-cc1620972ce6"
      },
      "execution_count": null,
      "outputs": [
        {
          "output_type": "execute_result",
          "data": {
            "text/plain": [
              "Index(['PassengerId', 'Survived', 'Pclass', 'Name', 'Sex', 'Age', 'SibSp',\n",
              "       'Parch', 'Ticket', 'Fare', 'Cabin', 'Embarked'],\n",
              "      dtype='object')"
            ]
          },
          "metadata": {},
          "execution_count": 2
        }
      ]
    },
    {
      "cell_type": "markdown",
      "source": [
        "#### b. Display the top 5 rows from the DataFrame data:\n",
        "\n",
        "In the following coding snippet, we used titanic_df.head() to display the top five rows of the DataFrame data:"
      ],
      "metadata": {
        "id": "GyZ_dCurIO-q"
      }
    },
    {
      "cell_type": "code",
      "source": [
        "titanic_df.head()"
      ],
      "metadata": {
        "colab": {
          "base_uri": "https://localhost:8080/",
          "height": 258
        },
        "id": "JXY8iXYeIcG-",
        "outputId": "122bb716-a92f-489c-e690-6c486a8bab72"
      },
      "execution_count": null,
      "outputs": [
        {
          "output_type": "execute_result",
          "data": {
            "text/plain": [
              "   PassengerId  Survived  Pclass  \\\n",
              "0            1         0       3   \n",
              "1            2         1       1   \n",
              "2            3         1       3   \n",
              "3            4         1       1   \n",
              "4            5         0       3   \n",
              "\n",
              "                                                Name     Sex   Age  SibSp  \\\n",
              "0                            Braund, Mr. Owen Harris    male  22.0      1   \n",
              "1  Cumings, Mrs. John Bradley (Florence Briggs Th...  female  38.0      1   \n",
              "2                             Heikkinen, Miss. Laina  female  26.0      0   \n",
              "3       Futrelle, Mrs. Jacques Heath (Lily May Peel)  female  35.0      1   \n",
              "4                           Allen, Mr. William Henry    male  35.0      0   \n",
              "\n",
              "   Parch            Ticket     Fare Cabin Embarked  \n",
              "0      0         A/5 21171   7.2500   NaN        S  \n",
              "1      0          PC 17599  71.2833   C85        C  \n",
              "2      0  STON/O2. 3101282   7.9250   NaN        S  \n",
              "3      0            113803  53.1000  C123        S  \n",
              "4      0            373450   8.0500   NaN        S  "
            ],
            "text/html": [
              "\n",
              "  <div id=\"df-778a19b1-00db-43e0-999b-a59ea21868b8\" class=\"colab-df-container\">\n",
              "    <div>\n",
              "<style scoped>\n",
              "    .dataframe tbody tr th:only-of-type {\n",
              "        vertical-align: middle;\n",
              "    }\n",
              "\n",
              "    .dataframe tbody tr th {\n",
              "        vertical-align: top;\n",
              "    }\n",
              "\n",
              "    .dataframe thead th {\n",
              "        text-align: right;\n",
              "    }\n",
              "</style>\n",
              "<table border=\"1\" class=\"dataframe\">\n",
              "  <thead>\n",
              "    <tr style=\"text-align: right;\">\n",
              "      <th></th>\n",
              "      <th>PassengerId</th>\n",
              "      <th>Survived</th>\n",
              "      <th>Pclass</th>\n",
              "      <th>Name</th>\n",
              "      <th>Sex</th>\n",
              "      <th>Age</th>\n",
              "      <th>SibSp</th>\n",
              "      <th>Parch</th>\n",
              "      <th>Ticket</th>\n",
              "      <th>Fare</th>\n",
              "      <th>Cabin</th>\n",
              "      <th>Embarked</th>\n",
              "    </tr>\n",
              "  </thead>\n",
              "  <tbody>\n",
              "    <tr>\n",
              "      <th>0</th>\n",
              "      <td>1</td>\n",
              "      <td>0</td>\n",
              "      <td>3</td>\n",
              "      <td>Braund, Mr. Owen Harris</td>\n",
              "      <td>male</td>\n",
              "      <td>22.0</td>\n",
              "      <td>1</td>\n",
              "      <td>0</td>\n",
              "      <td>A/5 21171</td>\n",
              "      <td>7.2500</td>\n",
              "      <td>NaN</td>\n",
              "      <td>S</td>\n",
              "    </tr>\n",
              "    <tr>\n",
              "      <th>1</th>\n",
              "      <td>2</td>\n",
              "      <td>1</td>\n",
              "      <td>1</td>\n",
              "      <td>Cumings, Mrs. John Bradley (Florence Briggs Th...</td>\n",
              "      <td>female</td>\n",
              "      <td>38.0</td>\n",
              "      <td>1</td>\n",
              "      <td>0</td>\n",
              "      <td>PC 17599</td>\n",
              "      <td>71.2833</td>\n",
              "      <td>C85</td>\n",
              "      <td>C</td>\n",
              "    </tr>\n",
              "    <tr>\n",
              "      <th>2</th>\n",
              "      <td>3</td>\n",
              "      <td>1</td>\n",
              "      <td>3</td>\n",
              "      <td>Heikkinen, Miss. Laina</td>\n",
              "      <td>female</td>\n",
              "      <td>26.0</td>\n",
              "      <td>0</td>\n",
              "      <td>0</td>\n",
              "      <td>STON/O2. 3101282</td>\n",
              "      <td>7.9250</td>\n",
              "      <td>NaN</td>\n",
              "      <td>S</td>\n",
              "    </tr>\n",
              "    <tr>\n",
              "      <th>3</th>\n",
              "      <td>4</td>\n",
              "      <td>1</td>\n",
              "      <td>1</td>\n",
              "      <td>Futrelle, Mrs. Jacques Heath (Lily May Peel)</td>\n",
              "      <td>female</td>\n",
              "      <td>35.0</td>\n",
              "      <td>1</td>\n",
              "      <td>0</td>\n",
              "      <td>113803</td>\n",
              "      <td>53.1000</td>\n",
              "      <td>C123</td>\n",
              "      <td>S</td>\n",
              "    </tr>\n",
              "    <tr>\n",
              "      <th>4</th>\n",
              "      <td>5</td>\n",
              "      <td>0</td>\n",
              "      <td>3</td>\n",
              "      <td>Allen, Mr. William Henry</td>\n",
              "      <td>male</td>\n",
              "      <td>35.0</td>\n",
              "      <td>0</td>\n",
              "      <td>0</td>\n",
              "      <td>373450</td>\n",
              "      <td>8.0500</td>\n",
              "      <td>NaN</td>\n",
              "      <td>S</td>\n",
              "    </tr>\n",
              "  </tbody>\n",
              "</table>\n",
              "</div>\n",
              "    <div class=\"colab-df-buttons\">\n",
              "\n",
              "  <div class=\"colab-df-container\">\n",
              "    <button class=\"colab-df-convert\" onclick=\"convertToInteractive('df-778a19b1-00db-43e0-999b-a59ea21868b8')\"\n",
              "            title=\"Convert this dataframe to an interactive table.\"\n",
              "            style=\"display:none;\">\n",
              "\n",
              "  <svg xmlns=\"http://www.w3.org/2000/svg\" height=\"24px\" viewBox=\"0 -960 960 960\">\n",
              "    <path d=\"M120-120v-720h720v720H120Zm60-500h600v-160H180v160Zm220 220h160v-160H400v160Zm0 220h160v-160H400v160ZM180-400h160v-160H180v160Zm440 0h160v-160H620v160ZM180-180h160v-160H180v160Zm440 0h160v-160H620v160Z\"/>\n",
              "  </svg>\n",
              "    </button>\n",
              "\n",
              "  <style>\n",
              "    .colab-df-container {\n",
              "      display:flex;\n",
              "      gap: 12px;\n",
              "    }\n",
              "\n",
              "    .colab-df-convert {\n",
              "      background-color: #E8F0FE;\n",
              "      border: none;\n",
              "      border-radius: 50%;\n",
              "      cursor: pointer;\n",
              "      display: none;\n",
              "      fill: #1967D2;\n",
              "      height: 32px;\n",
              "      padding: 0 0 0 0;\n",
              "      width: 32px;\n",
              "    }\n",
              "\n",
              "    .colab-df-convert:hover {\n",
              "      background-color: #E2EBFA;\n",
              "      box-shadow: 0px 1px 2px rgba(60, 64, 67, 0.3), 0px 1px 3px 1px rgba(60, 64, 67, 0.15);\n",
              "      fill: #174EA6;\n",
              "    }\n",
              "\n",
              "    .colab-df-buttons div {\n",
              "      margin-bottom: 4px;\n",
              "    }\n",
              "\n",
              "    [theme=dark] .colab-df-convert {\n",
              "      background-color: #3B4455;\n",
              "      fill: #D2E3FC;\n",
              "    }\n",
              "\n",
              "    [theme=dark] .colab-df-convert:hover {\n",
              "      background-color: #434B5C;\n",
              "      box-shadow: 0px 1px 3px 1px rgba(0, 0, 0, 0.15);\n",
              "      filter: drop-shadow(0px 1px 2px rgba(0, 0, 0, 0.3));\n",
              "      fill: #FFFFFF;\n",
              "    }\n",
              "  </style>\n",
              "\n",
              "    <script>\n",
              "      const buttonEl =\n",
              "        document.querySelector('#df-778a19b1-00db-43e0-999b-a59ea21868b8 button.colab-df-convert');\n",
              "      buttonEl.style.display =\n",
              "        google.colab.kernel.accessAllowed ? 'block' : 'none';\n",
              "\n",
              "      async function convertToInteractive(key) {\n",
              "        const element = document.querySelector('#df-778a19b1-00db-43e0-999b-a59ea21868b8');\n",
              "        const dataTable =\n",
              "          await google.colab.kernel.invokeFunction('convertToInteractive',\n",
              "                                                    [key], {});\n",
              "        if (!dataTable) return;\n",
              "\n",
              "        const docLinkHtml = 'Like what you see? Visit the ' +\n",
              "          '<a target=\"_blank\" href=https://colab.research.google.com/notebooks/data_table.ipynb>data table notebook</a>'\n",
              "          + ' to learn more about interactive tables.';\n",
              "        element.innerHTML = '';\n",
              "        dataTable['output_type'] = 'display_data';\n",
              "        await google.colab.output.renderOutput(dataTable, element);\n",
              "        const docLink = document.createElement('div');\n",
              "        docLink.innerHTML = docLinkHtml;\n",
              "        element.appendChild(docLink);\n",
              "      }\n",
              "    </script>\n",
              "  </div>\n",
              "\n",
              "\n",
              "<div id=\"df-4425cebc-fc45-4318-9417-33f0b31277e1\">\n",
              "  <button class=\"colab-df-quickchart\" onclick=\"quickchart('df-4425cebc-fc45-4318-9417-33f0b31277e1')\"\n",
              "            title=\"Suggest charts\"\n",
              "            style=\"display:none;\">\n",
              "\n",
              "<svg xmlns=\"http://www.w3.org/2000/svg\" height=\"24px\"viewBox=\"0 0 24 24\"\n",
              "     width=\"24px\">\n",
              "    <g>\n",
              "        <path d=\"M19 3H5c-1.1 0-2 .9-2 2v14c0 1.1.9 2 2 2h14c1.1 0 2-.9 2-2V5c0-1.1-.9-2-2-2zM9 17H7v-7h2v7zm4 0h-2V7h2v10zm4 0h-2v-4h2v4z\"/>\n",
              "    </g>\n",
              "</svg>\n",
              "  </button>\n",
              "\n",
              "<style>\n",
              "  .colab-df-quickchart {\n",
              "      --bg-color: #E8F0FE;\n",
              "      --fill-color: #1967D2;\n",
              "      --hover-bg-color: #E2EBFA;\n",
              "      --hover-fill-color: #174EA6;\n",
              "      --disabled-fill-color: #AAA;\n",
              "      --disabled-bg-color: #DDD;\n",
              "  }\n",
              "\n",
              "  [theme=dark] .colab-df-quickchart {\n",
              "      --bg-color: #3B4455;\n",
              "      --fill-color: #D2E3FC;\n",
              "      --hover-bg-color: #434B5C;\n",
              "      --hover-fill-color: #FFFFFF;\n",
              "      --disabled-bg-color: #3B4455;\n",
              "      --disabled-fill-color: #666;\n",
              "  }\n",
              "\n",
              "  .colab-df-quickchart {\n",
              "    background-color: var(--bg-color);\n",
              "    border: none;\n",
              "    border-radius: 50%;\n",
              "    cursor: pointer;\n",
              "    display: none;\n",
              "    fill: var(--fill-color);\n",
              "    height: 32px;\n",
              "    padding: 0;\n",
              "    width: 32px;\n",
              "  }\n",
              "\n",
              "  .colab-df-quickchart:hover {\n",
              "    background-color: var(--hover-bg-color);\n",
              "    box-shadow: 0 1px 2px rgba(60, 64, 67, 0.3), 0 1px 3px 1px rgba(60, 64, 67, 0.15);\n",
              "    fill: var(--button-hover-fill-color);\n",
              "  }\n",
              "\n",
              "  .colab-df-quickchart-complete:disabled,\n",
              "  .colab-df-quickchart-complete:disabled:hover {\n",
              "    background-color: var(--disabled-bg-color);\n",
              "    fill: var(--disabled-fill-color);\n",
              "    box-shadow: none;\n",
              "  }\n",
              "\n",
              "  .colab-df-spinner {\n",
              "    border: 2px solid var(--fill-color);\n",
              "    border-color: transparent;\n",
              "    border-bottom-color: var(--fill-color);\n",
              "    animation:\n",
              "      spin 1s steps(1) infinite;\n",
              "  }\n",
              "\n",
              "  @keyframes spin {\n",
              "    0% {\n",
              "      border-color: transparent;\n",
              "      border-bottom-color: var(--fill-color);\n",
              "      border-left-color: var(--fill-color);\n",
              "    }\n",
              "    20% {\n",
              "      border-color: transparent;\n",
              "      border-left-color: var(--fill-color);\n",
              "      border-top-color: var(--fill-color);\n",
              "    }\n",
              "    30% {\n",
              "      border-color: transparent;\n",
              "      border-left-color: var(--fill-color);\n",
              "      border-top-color: var(--fill-color);\n",
              "      border-right-color: var(--fill-color);\n",
              "    }\n",
              "    40% {\n",
              "      border-color: transparent;\n",
              "      border-right-color: var(--fill-color);\n",
              "      border-top-color: var(--fill-color);\n",
              "    }\n",
              "    60% {\n",
              "      border-color: transparent;\n",
              "      border-right-color: var(--fill-color);\n",
              "    }\n",
              "    80% {\n",
              "      border-color: transparent;\n",
              "      border-right-color: var(--fill-color);\n",
              "      border-bottom-color: var(--fill-color);\n",
              "    }\n",
              "    90% {\n",
              "      border-color: transparent;\n",
              "      border-bottom-color: var(--fill-color);\n",
              "    }\n",
              "  }\n",
              "</style>\n",
              "\n",
              "  <script>\n",
              "    async function quickchart(key) {\n",
              "      const quickchartButtonEl =\n",
              "        document.querySelector('#' + key + ' button');\n",
              "      quickchartButtonEl.disabled = true;  // To prevent multiple clicks.\n",
              "      quickchartButtonEl.classList.add('colab-df-spinner');\n",
              "      try {\n",
              "        const charts = await google.colab.kernel.invokeFunction(\n",
              "            'suggestCharts', [key], {});\n",
              "      } catch (error) {\n",
              "        console.error('Error during call to suggestCharts:', error);\n",
              "      }\n",
              "      quickchartButtonEl.classList.remove('colab-df-spinner');\n",
              "      quickchartButtonEl.classList.add('colab-df-quickchart-complete');\n",
              "    }\n",
              "    (() => {\n",
              "      let quickchartButtonEl =\n",
              "        document.querySelector('#df-4425cebc-fc45-4318-9417-33f0b31277e1 button');\n",
              "      quickchartButtonEl.style.display =\n",
              "        google.colab.kernel.accessAllowed ? 'block' : 'none';\n",
              "    })();\n",
              "  </script>\n",
              "</div>\n",
              "    </div>\n",
              "  </div>\n"
            ]
          },
          "metadata": {},
          "execution_count": 3
        }
      ]
    },
    {
      "cell_type": "markdown",
      "source": [
        "#### c. Display the last five rows from the data frame data:\n",
        "\n",
        "In the following coding snippet, we used titanic_df.tail() to display the bottom five rows of the data frame data:"
      ],
      "metadata": {
        "id": "XE963XZQIulK"
      }
    },
    {
      "cell_type": "code",
      "source": [
        "titanic_df.tail()"
      ],
      "metadata": {
        "colab": {
          "base_uri": "https://localhost:8080/",
          "height": 206
        },
        "id": "pqVQ2pmGJMnx",
        "outputId": "6f334d75-5ae5-4c2b-ec61-869b04cc4834"
      },
      "execution_count": null,
      "outputs": [
        {
          "output_type": "execute_result",
          "data": {
            "text/plain": [
              "     PassengerId  Survived  Pclass                                      Name  \\\n",
              "886          887         0       2                     Montvila, Rev. Juozas   \n",
              "887          888         1       1              Graham, Miss. Margaret Edith   \n",
              "888          889         0       3  Johnston, Miss. Catherine Helen \"Carrie\"   \n",
              "889          890         1       1                     Behr, Mr. Karl Howell   \n",
              "890          891         0       3                       Dooley, Mr. Patrick   \n",
              "\n",
              "        Sex   Age  SibSp  Parch      Ticket   Fare Cabin Embarked  \n",
              "886    male  27.0      0      0      211536  13.00   NaN        S  \n",
              "887  female  19.0      0      0      112053  30.00   B42        S  \n",
              "888  female   NaN      1      2  W./C. 6607  23.45   NaN        S  \n",
              "889    male  26.0      0      0      111369  30.00  C148        C  \n",
              "890    male  32.0      0      0      370376   7.75   NaN        Q  "
            ],
            "text/html": [
              "\n",
              "  <div id=\"df-0fc27dd7-da42-43a9-9610-9f2bcd3f6ddc\" class=\"colab-df-container\">\n",
              "    <div>\n",
              "<style scoped>\n",
              "    .dataframe tbody tr th:only-of-type {\n",
              "        vertical-align: middle;\n",
              "    }\n",
              "\n",
              "    .dataframe tbody tr th {\n",
              "        vertical-align: top;\n",
              "    }\n",
              "\n",
              "    .dataframe thead th {\n",
              "        text-align: right;\n",
              "    }\n",
              "</style>\n",
              "<table border=\"1\" class=\"dataframe\">\n",
              "  <thead>\n",
              "    <tr style=\"text-align: right;\">\n",
              "      <th></th>\n",
              "      <th>PassengerId</th>\n",
              "      <th>Survived</th>\n",
              "      <th>Pclass</th>\n",
              "      <th>Name</th>\n",
              "      <th>Sex</th>\n",
              "      <th>Age</th>\n",
              "      <th>SibSp</th>\n",
              "      <th>Parch</th>\n",
              "      <th>Ticket</th>\n",
              "      <th>Fare</th>\n",
              "      <th>Cabin</th>\n",
              "      <th>Embarked</th>\n",
              "    </tr>\n",
              "  </thead>\n",
              "  <tbody>\n",
              "    <tr>\n",
              "      <th>886</th>\n",
              "      <td>887</td>\n",
              "      <td>0</td>\n",
              "      <td>2</td>\n",
              "      <td>Montvila, Rev. Juozas</td>\n",
              "      <td>male</td>\n",
              "      <td>27.0</td>\n",
              "      <td>0</td>\n",
              "      <td>0</td>\n",
              "      <td>211536</td>\n",
              "      <td>13.00</td>\n",
              "      <td>NaN</td>\n",
              "      <td>S</td>\n",
              "    </tr>\n",
              "    <tr>\n",
              "      <th>887</th>\n",
              "      <td>888</td>\n",
              "      <td>1</td>\n",
              "      <td>1</td>\n",
              "      <td>Graham, Miss. Margaret Edith</td>\n",
              "      <td>female</td>\n",
              "      <td>19.0</td>\n",
              "      <td>0</td>\n",
              "      <td>0</td>\n",
              "      <td>112053</td>\n",
              "      <td>30.00</td>\n",
              "      <td>B42</td>\n",
              "      <td>S</td>\n",
              "    </tr>\n",
              "    <tr>\n",
              "      <th>888</th>\n",
              "      <td>889</td>\n",
              "      <td>0</td>\n",
              "      <td>3</td>\n",
              "      <td>Johnston, Miss. Catherine Helen \"Carrie\"</td>\n",
              "      <td>female</td>\n",
              "      <td>NaN</td>\n",
              "      <td>1</td>\n",
              "      <td>2</td>\n",
              "      <td>W./C. 6607</td>\n",
              "      <td>23.45</td>\n",
              "      <td>NaN</td>\n",
              "      <td>S</td>\n",
              "    </tr>\n",
              "    <tr>\n",
              "      <th>889</th>\n",
              "      <td>890</td>\n",
              "      <td>1</td>\n",
              "      <td>1</td>\n",
              "      <td>Behr, Mr. Karl Howell</td>\n",
              "      <td>male</td>\n",
              "      <td>26.0</td>\n",
              "      <td>0</td>\n",
              "      <td>0</td>\n",
              "      <td>111369</td>\n",
              "      <td>30.00</td>\n",
              "      <td>C148</td>\n",
              "      <td>C</td>\n",
              "    </tr>\n",
              "    <tr>\n",
              "      <th>890</th>\n",
              "      <td>891</td>\n",
              "      <td>0</td>\n",
              "      <td>3</td>\n",
              "      <td>Dooley, Mr. Patrick</td>\n",
              "      <td>male</td>\n",
              "      <td>32.0</td>\n",
              "      <td>0</td>\n",
              "      <td>0</td>\n",
              "      <td>370376</td>\n",
              "      <td>7.75</td>\n",
              "      <td>NaN</td>\n",
              "      <td>Q</td>\n",
              "    </tr>\n",
              "  </tbody>\n",
              "</table>\n",
              "</div>\n",
              "    <div class=\"colab-df-buttons\">\n",
              "\n",
              "  <div class=\"colab-df-container\">\n",
              "    <button class=\"colab-df-convert\" onclick=\"convertToInteractive('df-0fc27dd7-da42-43a9-9610-9f2bcd3f6ddc')\"\n",
              "            title=\"Convert this dataframe to an interactive table.\"\n",
              "            style=\"display:none;\">\n",
              "\n",
              "  <svg xmlns=\"http://www.w3.org/2000/svg\" height=\"24px\" viewBox=\"0 -960 960 960\">\n",
              "    <path d=\"M120-120v-720h720v720H120Zm60-500h600v-160H180v160Zm220 220h160v-160H400v160Zm0 220h160v-160H400v160ZM180-400h160v-160H180v160Zm440 0h160v-160H620v160ZM180-180h160v-160H180v160Zm440 0h160v-160H620v160Z\"/>\n",
              "  </svg>\n",
              "    </button>\n",
              "\n",
              "  <style>\n",
              "    .colab-df-container {\n",
              "      display:flex;\n",
              "      gap: 12px;\n",
              "    }\n",
              "\n",
              "    .colab-df-convert {\n",
              "      background-color: #E8F0FE;\n",
              "      border: none;\n",
              "      border-radius: 50%;\n",
              "      cursor: pointer;\n",
              "      display: none;\n",
              "      fill: #1967D2;\n",
              "      height: 32px;\n",
              "      padding: 0 0 0 0;\n",
              "      width: 32px;\n",
              "    }\n",
              "\n",
              "    .colab-df-convert:hover {\n",
              "      background-color: #E2EBFA;\n",
              "      box-shadow: 0px 1px 2px rgba(60, 64, 67, 0.3), 0px 1px 3px 1px rgba(60, 64, 67, 0.15);\n",
              "      fill: #174EA6;\n",
              "    }\n",
              "\n",
              "    .colab-df-buttons div {\n",
              "      margin-bottom: 4px;\n",
              "    }\n",
              "\n",
              "    [theme=dark] .colab-df-convert {\n",
              "      background-color: #3B4455;\n",
              "      fill: #D2E3FC;\n",
              "    }\n",
              "\n",
              "    [theme=dark] .colab-df-convert:hover {\n",
              "      background-color: #434B5C;\n",
              "      box-shadow: 0px 1px 3px 1px rgba(0, 0, 0, 0.15);\n",
              "      filter: drop-shadow(0px 1px 2px rgba(0, 0, 0, 0.3));\n",
              "      fill: #FFFFFF;\n",
              "    }\n",
              "  </style>\n",
              "\n",
              "    <script>\n",
              "      const buttonEl =\n",
              "        document.querySelector('#df-0fc27dd7-da42-43a9-9610-9f2bcd3f6ddc button.colab-df-convert');\n",
              "      buttonEl.style.display =\n",
              "        google.colab.kernel.accessAllowed ? 'block' : 'none';\n",
              "\n",
              "      async function convertToInteractive(key) {\n",
              "        const element = document.querySelector('#df-0fc27dd7-da42-43a9-9610-9f2bcd3f6ddc');\n",
              "        const dataTable =\n",
              "          await google.colab.kernel.invokeFunction('convertToInteractive',\n",
              "                                                    [key], {});\n",
              "        if (!dataTable) return;\n",
              "\n",
              "        const docLinkHtml = 'Like what you see? Visit the ' +\n",
              "          '<a target=\"_blank\" href=https://colab.research.google.com/notebooks/data_table.ipynb>data table notebook</a>'\n",
              "          + ' to learn more about interactive tables.';\n",
              "        element.innerHTML = '';\n",
              "        dataTable['output_type'] = 'display_data';\n",
              "        await google.colab.output.renderOutput(dataTable, element);\n",
              "        const docLink = document.createElement('div');\n",
              "        docLink.innerHTML = docLinkHtml;\n",
              "        element.appendChild(docLink);\n",
              "      }\n",
              "    </script>\n",
              "  </div>\n",
              "\n",
              "\n",
              "<div id=\"df-0053845b-2f7a-44b3-a20d-8faf0745a14d\">\n",
              "  <button class=\"colab-df-quickchart\" onclick=\"quickchart('df-0053845b-2f7a-44b3-a20d-8faf0745a14d')\"\n",
              "            title=\"Suggest charts\"\n",
              "            style=\"display:none;\">\n",
              "\n",
              "<svg xmlns=\"http://www.w3.org/2000/svg\" height=\"24px\"viewBox=\"0 0 24 24\"\n",
              "     width=\"24px\">\n",
              "    <g>\n",
              "        <path d=\"M19 3H5c-1.1 0-2 .9-2 2v14c0 1.1.9 2 2 2h14c1.1 0 2-.9 2-2V5c0-1.1-.9-2-2-2zM9 17H7v-7h2v7zm4 0h-2V7h2v10zm4 0h-2v-4h2v4z\"/>\n",
              "    </g>\n",
              "</svg>\n",
              "  </button>\n",
              "\n",
              "<style>\n",
              "  .colab-df-quickchart {\n",
              "      --bg-color: #E8F0FE;\n",
              "      --fill-color: #1967D2;\n",
              "      --hover-bg-color: #E2EBFA;\n",
              "      --hover-fill-color: #174EA6;\n",
              "      --disabled-fill-color: #AAA;\n",
              "      --disabled-bg-color: #DDD;\n",
              "  }\n",
              "\n",
              "  [theme=dark] .colab-df-quickchart {\n",
              "      --bg-color: #3B4455;\n",
              "      --fill-color: #D2E3FC;\n",
              "      --hover-bg-color: #434B5C;\n",
              "      --hover-fill-color: #FFFFFF;\n",
              "      --disabled-bg-color: #3B4455;\n",
              "      --disabled-fill-color: #666;\n",
              "  }\n",
              "\n",
              "  .colab-df-quickchart {\n",
              "    background-color: var(--bg-color);\n",
              "    border: none;\n",
              "    border-radius: 50%;\n",
              "    cursor: pointer;\n",
              "    display: none;\n",
              "    fill: var(--fill-color);\n",
              "    height: 32px;\n",
              "    padding: 0;\n",
              "    width: 32px;\n",
              "  }\n",
              "\n",
              "  .colab-df-quickchart:hover {\n",
              "    background-color: var(--hover-bg-color);\n",
              "    box-shadow: 0 1px 2px rgba(60, 64, 67, 0.3), 0 1px 3px 1px rgba(60, 64, 67, 0.15);\n",
              "    fill: var(--button-hover-fill-color);\n",
              "  }\n",
              "\n",
              "  .colab-df-quickchart-complete:disabled,\n",
              "  .colab-df-quickchart-complete:disabled:hover {\n",
              "    background-color: var(--disabled-bg-color);\n",
              "    fill: var(--disabled-fill-color);\n",
              "    box-shadow: none;\n",
              "  }\n",
              "\n",
              "  .colab-df-spinner {\n",
              "    border: 2px solid var(--fill-color);\n",
              "    border-color: transparent;\n",
              "    border-bottom-color: var(--fill-color);\n",
              "    animation:\n",
              "      spin 1s steps(1) infinite;\n",
              "  }\n",
              "\n",
              "  @keyframes spin {\n",
              "    0% {\n",
              "      border-color: transparent;\n",
              "      border-bottom-color: var(--fill-color);\n",
              "      border-left-color: var(--fill-color);\n",
              "    }\n",
              "    20% {\n",
              "      border-color: transparent;\n",
              "      border-left-color: var(--fill-color);\n",
              "      border-top-color: var(--fill-color);\n",
              "    }\n",
              "    30% {\n",
              "      border-color: transparent;\n",
              "      border-left-color: var(--fill-color);\n",
              "      border-top-color: var(--fill-color);\n",
              "      border-right-color: var(--fill-color);\n",
              "    }\n",
              "    40% {\n",
              "      border-color: transparent;\n",
              "      border-right-color: var(--fill-color);\n",
              "      border-top-color: var(--fill-color);\n",
              "    }\n",
              "    60% {\n",
              "      border-color: transparent;\n",
              "      border-right-color: var(--fill-color);\n",
              "    }\n",
              "    80% {\n",
              "      border-color: transparent;\n",
              "      border-right-color: var(--fill-color);\n",
              "      border-bottom-color: var(--fill-color);\n",
              "    }\n",
              "    90% {\n",
              "      border-color: transparent;\n",
              "      border-bottom-color: var(--fill-color);\n",
              "    }\n",
              "  }\n",
              "</style>\n",
              "\n",
              "  <script>\n",
              "    async function quickchart(key) {\n",
              "      const quickchartButtonEl =\n",
              "        document.querySelector('#' + key + ' button');\n",
              "      quickchartButtonEl.disabled = true;  // To prevent multiple clicks.\n",
              "      quickchartButtonEl.classList.add('colab-df-spinner');\n",
              "      try {\n",
              "        const charts = await google.colab.kernel.invokeFunction(\n",
              "            'suggestCharts', [key], {});\n",
              "      } catch (error) {\n",
              "        console.error('Error during call to suggestCharts:', error);\n",
              "      }\n",
              "      quickchartButtonEl.classList.remove('colab-df-spinner');\n",
              "      quickchartButtonEl.classList.add('colab-df-quickchart-complete');\n",
              "    }\n",
              "    (() => {\n",
              "      let quickchartButtonEl =\n",
              "        document.querySelector('#df-0053845b-2f7a-44b3-a20d-8faf0745a14d button');\n",
              "      quickchartButtonEl.style.display =\n",
              "        google.colab.kernel.accessAllowed ? 'block' : 'none';\n",
              "    })();\n",
              "  </script>\n",
              "</div>\n",
              "    </div>\n",
              "  </div>\n"
            ]
          },
          "metadata": {},
          "execution_count": 4
        }
      ]
    },
    {
      "cell_type": "markdown",
      "source": [
        "#### d. Display the shape of the DataFrame (rows and columns):\n",
        "\n",
        "In the following coding snippet, we used titanic_df.shape() to display the shape of the DataFrame data; it has 266 rows and 33 columns."
      ],
      "metadata": {
        "id": "gNy_raB5JZAJ"
      }
    },
    {
      "cell_type": "code",
      "source": [
        "titanic_df.shape"
      ],
      "metadata": {
        "colab": {
          "base_uri": "https://localhost:8080/"
        },
        "id": "Vx1_zZHuJlT6",
        "outputId": "a21d1864-c362-4a1e-84b0-7188cc11a9a3"
      },
      "execution_count": null,
      "outputs": [
        {
          "output_type": "execute_result",
          "data": {
            "text/plain": [
              "(891, 12)"
            ]
          },
          "metadata": {},
          "execution_count": 5
        }
      ]
    },
    {
      "cell_type": "markdown",
      "source": [
        "#### e. Check for null values to start data cleaning\n",
        "\n",
        "We used the isnull() function to check the null values present in the data frame. In the following example, we can see that some columns have null values:"
      ],
      "metadata": {
        "id": "r8wmZwwbKcw-"
      }
    },
    {
      "cell_type": "code",
      "source": [
        "titanic_df.isnull().sum()"
      ],
      "metadata": {
        "colab": {
          "base_uri": "https://localhost:8080/"
        },
        "id": "GVY1OhkMKhzL",
        "outputId": "e3e42c6d-4889-4c05-be46-bdebe9faabff"
      },
      "execution_count": null,
      "outputs": [
        {
          "output_type": "execute_result",
          "data": {
            "text/plain": [
              "PassengerId      0\n",
              "Survived         0\n",
              "Pclass           0\n",
              "Name             0\n",
              "Sex              0\n",
              "Age            177\n",
              "SibSp            0\n",
              "Parch            0\n",
              "Ticket           0\n",
              "Fare             0\n",
              "Cabin          687\n",
              "Embarked         2\n",
              "dtype: int64"
            ]
          },
          "metadata": {},
          "execution_count": 6
        }
      ]
    },
    {
      "cell_type": "markdown",
      "source": [
        "#### f. Dropping the rows with null values\n",
        "\n",
        "The following coding snippet contains the code to drop all null values, mostly in columns 'Age', 'Cabin', 'Embarked'.\n",
        "\n"
      ],
      "metadata": {
        "id": "Aku62C5yKs9g"
      }
    },
    {
      "cell_type": "code",
      "source": [
        "titanic_df.dropna(inplace = True)\n",
        "titanic_df.isnull().sum()"
      ],
      "metadata": {
        "colab": {
          "base_uri": "https://localhost:8080/"
        },
        "id": "tZpUdaiSLAuz",
        "outputId": "cc12e2d1-a86e-4f8d-e722-e7dd49b0b63a"
      },
      "execution_count": null,
      "outputs": [
        {
          "output_type": "execute_result",
          "data": {
            "text/plain": [
              "PassengerId    0\n",
              "Survived       0\n",
              "Pclass         0\n",
              "Name           0\n",
              "Sex            0\n",
              "Age            0\n",
              "SibSp          0\n",
              "Parch          0\n",
              "Ticket         0\n",
              "Fare           0\n",
              "Cabin          0\n",
              "Embarked       0\n",
              "dtype: int64"
            ]
          },
          "metadata": {},
          "execution_count": 7
        }
      ]
    },
    {
      "cell_type": "markdown",
      "source": [
        "We can see no null present after dropping all null values from the DataFrame.\n",
        "\n"
      ],
      "metadata": {
        "id": "6T6Z_bBeL39K"
      }
    },
    {
      "cell_type": "markdown",
      "source": [
        "#### g. Check for the duplicates:\n",
        "\n",
        "In the following coding snippet, I have checked for duplicates and found that there is no duplicate data present:"
      ],
      "metadata": {
        "id": "5eq9RiFBL_ne"
      }
    },
    {
      "cell_type": "code",
      "source": [
        "titanic_df.duplicated().sum()"
      ],
      "metadata": {
        "colab": {
          "base_uri": "https://localhost:8080/"
        },
        "id": "ZjdX8j4WMECf",
        "outputId": "8d49dd71-17a4-4e25-effa-5ca3bb199724"
      },
      "execution_count": null,
      "outputs": [
        {
          "output_type": "execute_result",
          "data": {
            "text/plain": [
              "0"
            ]
          },
          "metadata": {},
          "execution_count": 8
        }
      ]
    },
    {
      "cell_type": "markdown",
      "source": [
        "#### h. Checking the datatypes of the columns:\n",
        "\n",
        "In the following coding snippet, we printed the data types for all columns in the DataFrame:"
      ],
      "metadata": {
        "id": "0j75cTtxMMIb"
      }
    },
    {
      "cell_type": "code",
      "source": [
        "titanic_df.dtypes"
      ],
      "metadata": {
        "colab": {
          "base_uri": "https://localhost:8080/"
        },
        "id": "P3-mBtgVMQTI",
        "outputId": "7e878f82-e244-4337-adb9-cc79932a3179"
      },
      "execution_count": null,
      "outputs": [
        {
          "output_type": "execute_result",
          "data": {
            "text/plain": [
              "PassengerId      int64\n",
              "Survived         int64\n",
              "Pclass           int64\n",
              "Name            object\n",
              "Sex             object\n",
              "Age            float64\n",
              "SibSp            int64\n",
              "Parch            int64\n",
              "Ticket          object\n",
              "Fare           float64\n",
              "Cabin           object\n",
              "Embarked        object\n",
              "dtype: object"
            ]
          },
          "metadata": {},
          "execution_count": 9
        }
      ]
    },
    {
      "cell_type": "markdown",
      "source": [
        "#### i. Sorting the DataFrame:\n",
        "\n",
        "In the following coding snippet, we sorted the data frame on the column Name:"
      ],
      "metadata": {
        "id": "qDXN6gkDMcVa"
      }
    },
    {
      "cell_type": "code",
      "source": [
        "titanic_df.sort_values('Name')"
      ],
      "metadata": {
        "colab": {
          "base_uri": "https://localhost:8080/",
          "height": 493
        },
        "id": "xN5CvUflMgkB",
        "outputId": "cbc4ce13-f563-4faf-d247-e91d73418777"
      },
      "execution_count": null,
      "outputs": [
        {
          "output_type": "execute_result",
          "data": {
            "text/plain": [
              "     PassengerId  Survived  Pclass  \\\n",
              "730          731         1       1   \n",
              "305          306         1       1   \n",
              "297          298         0       1   \n",
              "498          499         0       1   \n",
              "460          461         1       1   \n",
              "..           ...       ...     ...   \n",
              "124          125         0       1   \n",
              "102          103         0       1   \n",
              "318          319         1       1   \n",
              "377          378         0       1   \n",
              "325          326         1       1   \n",
              "\n",
              "                                                Name     Sex    Age  SibSp  \\\n",
              "730                    Allen, Miss. Elisabeth Walton  female  29.00      0   \n",
              "305                   Allison, Master. Hudson Trevor    male   0.92      1   \n",
              "297                     Allison, Miss. Helen Loraine  female   2.00      1   \n",
              "498  Allison, Mrs. Hudson J C (Bessie Waldo Daniels)  female  25.00      1   \n",
              "460                              Anderson, Mr. Harry    male  48.00      0   \n",
              "..                                               ...     ...    ...    ...   \n",
              "124                      White, Mr. Percival Wayland    male  54.00      0   \n",
              "102                        White, Mr. Richard Frasar    male  21.00      0   \n",
              "318                         Wick, Miss. Mary Natalie  female  31.00      0   \n",
              "377                        Widener, Mr. Harry Elkins    male  27.00      0   \n",
              "325                         Young, Miss. Marie Grice  female  36.00      0   \n",
              "\n",
              "     Parch    Ticket      Fare    Cabin Embarked  \n",
              "730      0     24160  211.3375       B5        S  \n",
              "305      2    113781  151.5500  C22 C26        S  \n",
              "297      2    113781  151.5500  C22 C26        S  \n",
              "498      2    113781  151.5500  C22 C26        S  \n",
              "460      0     19952   26.5500      E12        S  \n",
              "..     ...       ...       ...      ...      ...  \n",
              "124      1     35281   77.2875      D26        S  \n",
              "102      1     35281   77.2875      D26        S  \n",
              "318      2     36928  164.8667       C7        S  \n",
              "377      2    113503  211.5000      C82        C  \n",
              "325      0  PC 17760  135.6333      C32        C  \n",
              "\n",
              "[183 rows x 12 columns]"
            ],
            "text/html": [
              "\n",
              "  <div id=\"df-9ea116eb-b0c5-4863-a722-96301f5884ec\" class=\"colab-df-container\">\n",
              "    <div>\n",
              "<style scoped>\n",
              "    .dataframe tbody tr th:only-of-type {\n",
              "        vertical-align: middle;\n",
              "    }\n",
              "\n",
              "    .dataframe tbody tr th {\n",
              "        vertical-align: top;\n",
              "    }\n",
              "\n",
              "    .dataframe thead th {\n",
              "        text-align: right;\n",
              "    }\n",
              "</style>\n",
              "<table border=\"1\" class=\"dataframe\">\n",
              "  <thead>\n",
              "    <tr style=\"text-align: right;\">\n",
              "      <th></th>\n",
              "      <th>PassengerId</th>\n",
              "      <th>Survived</th>\n",
              "      <th>Pclass</th>\n",
              "      <th>Name</th>\n",
              "      <th>Sex</th>\n",
              "      <th>Age</th>\n",
              "      <th>SibSp</th>\n",
              "      <th>Parch</th>\n",
              "      <th>Ticket</th>\n",
              "      <th>Fare</th>\n",
              "      <th>Cabin</th>\n",
              "      <th>Embarked</th>\n",
              "    </tr>\n",
              "  </thead>\n",
              "  <tbody>\n",
              "    <tr>\n",
              "      <th>730</th>\n",
              "      <td>731</td>\n",
              "      <td>1</td>\n",
              "      <td>1</td>\n",
              "      <td>Allen, Miss. Elisabeth Walton</td>\n",
              "      <td>female</td>\n",
              "      <td>29.00</td>\n",
              "      <td>0</td>\n",
              "      <td>0</td>\n",
              "      <td>24160</td>\n",
              "      <td>211.3375</td>\n",
              "      <td>B5</td>\n",
              "      <td>S</td>\n",
              "    </tr>\n",
              "    <tr>\n",
              "      <th>305</th>\n",
              "      <td>306</td>\n",
              "      <td>1</td>\n",
              "      <td>1</td>\n",
              "      <td>Allison, Master. Hudson Trevor</td>\n",
              "      <td>male</td>\n",
              "      <td>0.92</td>\n",
              "      <td>1</td>\n",
              "      <td>2</td>\n",
              "      <td>113781</td>\n",
              "      <td>151.5500</td>\n",
              "      <td>C22 C26</td>\n",
              "      <td>S</td>\n",
              "    </tr>\n",
              "    <tr>\n",
              "      <th>297</th>\n",
              "      <td>298</td>\n",
              "      <td>0</td>\n",
              "      <td>1</td>\n",
              "      <td>Allison, Miss. Helen Loraine</td>\n",
              "      <td>female</td>\n",
              "      <td>2.00</td>\n",
              "      <td>1</td>\n",
              "      <td>2</td>\n",
              "      <td>113781</td>\n",
              "      <td>151.5500</td>\n",
              "      <td>C22 C26</td>\n",
              "      <td>S</td>\n",
              "    </tr>\n",
              "    <tr>\n",
              "      <th>498</th>\n",
              "      <td>499</td>\n",
              "      <td>0</td>\n",
              "      <td>1</td>\n",
              "      <td>Allison, Mrs. Hudson J C (Bessie Waldo Daniels)</td>\n",
              "      <td>female</td>\n",
              "      <td>25.00</td>\n",
              "      <td>1</td>\n",
              "      <td>2</td>\n",
              "      <td>113781</td>\n",
              "      <td>151.5500</td>\n",
              "      <td>C22 C26</td>\n",
              "      <td>S</td>\n",
              "    </tr>\n",
              "    <tr>\n",
              "      <th>460</th>\n",
              "      <td>461</td>\n",
              "      <td>1</td>\n",
              "      <td>1</td>\n",
              "      <td>Anderson, Mr. Harry</td>\n",
              "      <td>male</td>\n",
              "      <td>48.00</td>\n",
              "      <td>0</td>\n",
              "      <td>0</td>\n",
              "      <td>19952</td>\n",
              "      <td>26.5500</td>\n",
              "      <td>E12</td>\n",
              "      <td>S</td>\n",
              "    </tr>\n",
              "    <tr>\n",
              "      <th>...</th>\n",
              "      <td>...</td>\n",
              "      <td>...</td>\n",
              "      <td>...</td>\n",
              "      <td>...</td>\n",
              "      <td>...</td>\n",
              "      <td>...</td>\n",
              "      <td>...</td>\n",
              "      <td>...</td>\n",
              "      <td>...</td>\n",
              "      <td>...</td>\n",
              "      <td>...</td>\n",
              "      <td>...</td>\n",
              "    </tr>\n",
              "    <tr>\n",
              "      <th>124</th>\n",
              "      <td>125</td>\n",
              "      <td>0</td>\n",
              "      <td>1</td>\n",
              "      <td>White, Mr. Percival Wayland</td>\n",
              "      <td>male</td>\n",
              "      <td>54.00</td>\n",
              "      <td>0</td>\n",
              "      <td>1</td>\n",
              "      <td>35281</td>\n",
              "      <td>77.2875</td>\n",
              "      <td>D26</td>\n",
              "      <td>S</td>\n",
              "    </tr>\n",
              "    <tr>\n",
              "      <th>102</th>\n",
              "      <td>103</td>\n",
              "      <td>0</td>\n",
              "      <td>1</td>\n",
              "      <td>White, Mr. Richard Frasar</td>\n",
              "      <td>male</td>\n",
              "      <td>21.00</td>\n",
              "      <td>0</td>\n",
              "      <td>1</td>\n",
              "      <td>35281</td>\n",
              "      <td>77.2875</td>\n",
              "      <td>D26</td>\n",
              "      <td>S</td>\n",
              "    </tr>\n",
              "    <tr>\n",
              "      <th>318</th>\n",
              "      <td>319</td>\n",
              "      <td>1</td>\n",
              "      <td>1</td>\n",
              "      <td>Wick, Miss. Mary Natalie</td>\n",
              "      <td>female</td>\n",
              "      <td>31.00</td>\n",
              "      <td>0</td>\n",
              "      <td>2</td>\n",
              "      <td>36928</td>\n",
              "      <td>164.8667</td>\n",
              "      <td>C7</td>\n",
              "      <td>S</td>\n",
              "    </tr>\n",
              "    <tr>\n",
              "      <th>377</th>\n",
              "      <td>378</td>\n",
              "      <td>0</td>\n",
              "      <td>1</td>\n",
              "      <td>Widener, Mr. Harry Elkins</td>\n",
              "      <td>male</td>\n",
              "      <td>27.00</td>\n",
              "      <td>0</td>\n",
              "      <td>2</td>\n",
              "      <td>113503</td>\n",
              "      <td>211.5000</td>\n",
              "      <td>C82</td>\n",
              "      <td>C</td>\n",
              "    </tr>\n",
              "    <tr>\n",
              "      <th>325</th>\n",
              "      <td>326</td>\n",
              "      <td>1</td>\n",
              "      <td>1</td>\n",
              "      <td>Young, Miss. Marie Grice</td>\n",
              "      <td>female</td>\n",
              "      <td>36.00</td>\n",
              "      <td>0</td>\n",
              "      <td>0</td>\n",
              "      <td>PC 17760</td>\n",
              "      <td>135.6333</td>\n",
              "      <td>C32</td>\n",
              "      <td>C</td>\n",
              "    </tr>\n",
              "  </tbody>\n",
              "</table>\n",
              "<p>183 rows × 12 columns</p>\n",
              "</div>\n",
              "    <div class=\"colab-df-buttons\">\n",
              "\n",
              "  <div class=\"colab-df-container\">\n",
              "    <button class=\"colab-df-convert\" onclick=\"convertToInteractive('df-9ea116eb-b0c5-4863-a722-96301f5884ec')\"\n",
              "            title=\"Convert this dataframe to an interactive table.\"\n",
              "            style=\"display:none;\">\n",
              "\n",
              "  <svg xmlns=\"http://www.w3.org/2000/svg\" height=\"24px\" viewBox=\"0 -960 960 960\">\n",
              "    <path d=\"M120-120v-720h720v720H120Zm60-500h600v-160H180v160Zm220 220h160v-160H400v160Zm0 220h160v-160H400v160ZM180-400h160v-160H180v160Zm440 0h160v-160H620v160ZM180-180h160v-160H180v160Zm440 0h160v-160H620v160Z\"/>\n",
              "  </svg>\n",
              "    </button>\n",
              "\n",
              "  <style>\n",
              "    .colab-df-container {\n",
              "      display:flex;\n",
              "      gap: 12px;\n",
              "    }\n",
              "\n",
              "    .colab-df-convert {\n",
              "      background-color: #E8F0FE;\n",
              "      border: none;\n",
              "      border-radius: 50%;\n",
              "      cursor: pointer;\n",
              "      display: none;\n",
              "      fill: #1967D2;\n",
              "      height: 32px;\n",
              "      padding: 0 0 0 0;\n",
              "      width: 32px;\n",
              "    }\n",
              "\n",
              "    .colab-df-convert:hover {\n",
              "      background-color: #E2EBFA;\n",
              "      box-shadow: 0px 1px 2px rgba(60, 64, 67, 0.3), 0px 1px 3px 1px rgba(60, 64, 67, 0.15);\n",
              "      fill: #174EA6;\n",
              "    }\n",
              "\n",
              "    .colab-df-buttons div {\n",
              "      margin-bottom: 4px;\n",
              "    }\n",
              "\n",
              "    [theme=dark] .colab-df-convert {\n",
              "      background-color: #3B4455;\n",
              "      fill: #D2E3FC;\n",
              "    }\n",
              "\n",
              "    [theme=dark] .colab-df-convert:hover {\n",
              "      background-color: #434B5C;\n",
              "      box-shadow: 0px 1px 3px 1px rgba(0, 0, 0, 0.15);\n",
              "      filter: drop-shadow(0px 1px 2px rgba(0, 0, 0, 0.3));\n",
              "      fill: #FFFFFF;\n",
              "    }\n",
              "  </style>\n",
              "\n",
              "    <script>\n",
              "      const buttonEl =\n",
              "        document.querySelector('#df-9ea116eb-b0c5-4863-a722-96301f5884ec button.colab-df-convert');\n",
              "      buttonEl.style.display =\n",
              "        google.colab.kernel.accessAllowed ? 'block' : 'none';\n",
              "\n",
              "      async function convertToInteractive(key) {\n",
              "        const element = document.querySelector('#df-9ea116eb-b0c5-4863-a722-96301f5884ec');\n",
              "        const dataTable =\n",
              "          await google.colab.kernel.invokeFunction('convertToInteractive',\n",
              "                                                    [key], {});\n",
              "        if (!dataTable) return;\n",
              "\n",
              "        const docLinkHtml = 'Like what you see? Visit the ' +\n",
              "          '<a target=\"_blank\" href=https://colab.research.google.com/notebooks/data_table.ipynb>data table notebook</a>'\n",
              "          + ' to learn more about interactive tables.';\n",
              "        element.innerHTML = '';\n",
              "        dataTable['output_type'] = 'display_data';\n",
              "        await google.colab.output.renderOutput(dataTable, element);\n",
              "        const docLink = document.createElement('div');\n",
              "        docLink.innerHTML = docLinkHtml;\n",
              "        element.appendChild(docLink);\n",
              "      }\n",
              "    </script>\n",
              "  </div>\n",
              "\n",
              "\n",
              "<div id=\"df-b0f4922c-62d1-45a2-b53c-5611210cdb02\">\n",
              "  <button class=\"colab-df-quickchart\" onclick=\"quickchart('df-b0f4922c-62d1-45a2-b53c-5611210cdb02')\"\n",
              "            title=\"Suggest charts\"\n",
              "            style=\"display:none;\">\n",
              "\n",
              "<svg xmlns=\"http://www.w3.org/2000/svg\" height=\"24px\"viewBox=\"0 0 24 24\"\n",
              "     width=\"24px\">\n",
              "    <g>\n",
              "        <path d=\"M19 3H5c-1.1 0-2 .9-2 2v14c0 1.1.9 2 2 2h14c1.1 0 2-.9 2-2V5c0-1.1-.9-2-2-2zM9 17H7v-7h2v7zm4 0h-2V7h2v10zm4 0h-2v-4h2v4z\"/>\n",
              "    </g>\n",
              "</svg>\n",
              "  </button>\n",
              "\n",
              "<style>\n",
              "  .colab-df-quickchart {\n",
              "      --bg-color: #E8F0FE;\n",
              "      --fill-color: #1967D2;\n",
              "      --hover-bg-color: #E2EBFA;\n",
              "      --hover-fill-color: #174EA6;\n",
              "      --disabled-fill-color: #AAA;\n",
              "      --disabled-bg-color: #DDD;\n",
              "  }\n",
              "\n",
              "  [theme=dark] .colab-df-quickchart {\n",
              "      --bg-color: #3B4455;\n",
              "      --fill-color: #D2E3FC;\n",
              "      --hover-bg-color: #434B5C;\n",
              "      --hover-fill-color: #FFFFFF;\n",
              "      --disabled-bg-color: #3B4455;\n",
              "      --disabled-fill-color: #666;\n",
              "  }\n",
              "\n",
              "  .colab-df-quickchart {\n",
              "    background-color: var(--bg-color);\n",
              "    border: none;\n",
              "    border-radius: 50%;\n",
              "    cursor: pointer;\n",
              "    display: none;\n",
              "    fill: var(--fill-color);\n",
              "    height: 32px;\n",
              "    padding: 0;\n",
              "    width: 32px;\n",
              "  }\n",
              "\n",
              "  .colab-df-quickchart:hover {\n",
              "    background-color: var(--hover-bg-color);\n",
              "    box-shadow: 0 1px 2px rgba(60, 64, 67, 0.3), 0 1px 3px 1px rgba(60, 64, 67, 0.15);\n",
              "    fill: var(--button-hover-fill-color);\n",
              "  }\n",
              "\n",
              "  .colab-df-quickchart-complete:disabled,\n",
              "  .colab-df-quickchart-complete:disabled:hover {\n",
              "    background-color: var(--disabled-bg-color);\n",
              "    fill: var(--disabled-fill-color);\n",
              "    box-shadow: none;\n",
              "  }\n",
              "\n",
              "  .colab-df-spinner {\n",
              "    border: 2px solid var(--fill-color);\n",
              "    border-color: transparent;\n",
              "    border-bottom-color: var(--fill-color);\n",
              "    animation:\n",
              "      spin 1s steps(1) infinite;\n",
              "  }\n",
              "\n",
              "  @keyframes spin {\n",
              "    0% {\n",
              "      border-color: transparent;\n",
              "      border-bottom-color: var(--fill-color);\n",
              "      border-left-color: var(--fill-color);\n",
              "    }\n",
              "    20% {\n",
              "      border-color: transparent;\n",
              "      border-left-color: var(--fill-color);\n",
              "      border-top-color: var(--fill-color);\n",
              "    }\n",
              "    30% {\n",
              "      border-color: transparent;\n",
              "      border-left-color: var(--fill-color);\n",
              "      border-top-color: var(--fill-color);\n",
              "      border-right-color: var(--fill-color);\n",
              "    }\n",
              "    40% {\n",
              "      border-color: transparent;\n",
              "      border-right-color: var(--fill-color);\n",
              "      border-top-color: var(--fill-color);\n",
              "    }\n",
              "    60% {\n",
              "      border-color: transparent;\n",
              "      border-right-color: var(--fill-color);\n",
              "    }\n",
              "    80% {\n",
              "      border-color: transparent;\n",
              "      border-right-color: var(--fill-color);\n",
              "      border-bottom-color: var(--fill-color);\n",
              "    }\n",
              "    90% {\n",
              "      border-color: transparent;\n",
              "      border-bottom-color: var(--fill-color);\n",
              "    }\n",
              "  }\n",
              "</style>\n",
              "\n",
              "  <script>\n",
              "    async function quickchart(key) {\n",
              "      const quickchartButtonEl =\n",
              "        document.querySelector('#' + key + ' button');\n",
              "      quickchartButtonEl.disabled = true;  // To prevent multiple clicks.\n",
              "      quickchartButtonEl.classList.add('colab-df-spinner');\n",
              "      try {\n",
              "        const charts = await google.colab.kernel.invokeFunction(\n",
              "            'suggestCharts', [key], {});\n",
              "      } catch (error) {\n",
              "        console.error('Error during call to suggestCharts:', error);\n",
              "      }\n",
              "      quickchartButtonEl.classList.remove('colab-df-spinner');\n",
              "      quickchartButtonEl.classList.add('colab-df-quickchart-complete');\n",
              "    }\n",
              "    (() => {\n",
              "      let quickchartButtonEl =\n",
              "        document.querySelector('#df-b0f4922c-62d1-45a2-b53c-5611210cdb02 button');\n",
              "      quickchartButtonEl.style.display =\n",
              "        google.colab.kernel.accessAllowed ? 'block' : 'none';\n",
              "    })();\n",
              "  </script>\n",
              "</div>\n",
              "    </div>\n",
              "  </div>\n"
            ]
          },
          "metadata": {},
          "execution_count": 10
        }
      ]
    },
    {
      "cell_type": "markdown",
      "source": [
        "## **Questions to Answer**\n",
        "\n",
        "\n",
        "1.   How does survival vary by gender?\n",
        "2.   What is the distribution of survival rates among different age groups (e.g., children, adults, elderly)?\n",
        "3. What is the distribution of passenger classes among survivors and non survivors?\n",
        "4. What is the distribution of fares paid by passengers?\n",
        "5. Did fares play a role in their survival?\n",
        "6. What is the average age of passengers?\n",
        "7. What is the overall survival rate?\n",
        "8. How many passengers embarked from each port (C = Cherbourg, Q = Queenstown, S = Southampton)?\n",
        "9. Did the port of embarkation impact survival rates?\n",
        "10. What was the distribution of cabin classes?\n",
        "11. How did the survival rates vary among different cabin classes and decks?\n",
        "12. Can we identify any patterns or trends in the names or titles of passengers that might be correlated with survival?\n",
        "13. Find the number of people in each cabin on the Titanic.\n",
        "\n",
        "\n",
        "\n"
      ],
      "metadata": {
        "id": "weKdu6i6tZt-"
      }
    },
    {
      "cell_type": "markdown",
      "source": [
        "### How does survival vary by gender?\n"
      ],
      "metadata": {
        "id": "RNa34x-6zmSk"
      }
    },
    {
      "cell_type": "markdown",
      "source": [
        "The following code calculates the survival rate based on gender. It first groups the titanic dataset by the 'Sex' column then calculates the mean of the 'Survived' column for each group."
      ],
      "metadata": {
        "id": "ugJtX_zyFHcj"
      }
    },
    {
      "cell_type": "code",
      "source": [
        "# Gender-wise Survival Rate\n",
        "gender_survival_rate = titanic_df.groupby('Sex')['Survived'].mean()\n",
        "print(\"Survival Rate by Gender:\")\n",
        "print(gender_survival_rate)"
      ],
      "metadata": {
        "colab": {
          "base_uri": "https://localhost:8080/"
        },
        "id": "LFsN8jqKuztS",
        "outputId": "16e2cbfd-af50-416c-a437-5ac98ce8d3ea"
      },
      "execution_count": null,
      "outputs": [
        {
          "output_type": "stream",
          "name": "stdout",
          "text": [
            "Survival Rate by Gender:\n",
            "Sex\n",
            "female    0.931818\n",
            "male      0.431579\n",
            "Name: Survived, dtype: float64\n"
          ]
        }
      ]
    },
    {
      "cell_type": "markdown",
      "source": [
        "The output shows the survival rate for males and females. The survival rate for females is 0.931818. The survival rate for males is 0.431579.\n",
        "\n",
        "**Insight:** Females had a significantly higher survival rate (93.2%) compared to males (43.2%). This is probably because of prioritizing women and children in emergency situations."
      ],
      "metadata": {
        "id": "MOoAgrFTAkVT"
      }
    },
    {
      "cell_type": "markdown",
      "source": [
        "### What is the distribution of survival rates among different age groups (e.g., children, adults, elderly)?"
      ],
      "metadata": {
        "id": "5zOzin40z__8"
      }
    },
    {
      "cell_type": "markdown",
      "source": [
        "The following code calculates the survival rate by age group. It first creates categorical age groups based on the 'Age' column and it bins them in specific groups. Then it groups the dataset by the predefined age groups and calculates the mean of the 'Survived' column for each group."
      ],
      "metadata": {
        "id": "Up9KirkcFZvU"
      }
    },
    {
      "cell_type": "code",
      "source": [
        "# Age-wise Survival Rate\n",
        "age_survival_rate = pd.cut(titanic_df['Age'], bins=[0, 18, 35, 60, 100], labels=['Child', 'Adult', 'Middle-aged', 'Elderly'])\n",
        "age_survival_rate = titanic_df.groupby(age_survival_rate)['Survived'].mean()\n",
        "print(\"Survival Rate by Age Group:\")\n",
        "print(age_survival_rate)"
      ],
      "metadata": {
        "colab": {
          "base_uri": "https://localhost:8080/"
        },
        "id": "quFWunCgu4k6",
        "outputId": "3dcfbc32-4449-446f-9a92-b85280749089"
      },
      "execution_count": null,
      "outputs": [
        {
          "output_type": "stream",
          "name": "stdout",
          "text": [
            "Survival Rate by Age Group:\n",
            "Age\n",
            "Child          0.869565\n",
            "Adult          0.761194\n",
            "Middle-aged    0.602410\n",
            "Elderly        0.200000\n",
            "Name: Survived, dtype: float64\n"
          ]
        }
      ]
    },
    {
      "cell_type": "markdown",
      "source": [
        "The output shows the survival rate for Children, Adults, Middle-aged people, and Elderly.\n",
        "\n",
        "**Insight:** Children (0-18) had the highest survival rate (86.9%), followed by adults (76.1%), middle-aged (60.2%), and the elderly (20%). In emergency plans, specific accommodations and attention are provided for vulnerable age groups."
      ],
      "metadata": {
        "id": "xNFzRA6kA19h"
      }
    },
    {
      "cell_type": "markdown",
      "source": [
        "### What is the distribution of passenger classes among survivors and non survivors?"
      ],
      "metadata": {
        "id": "3yv7DFfl0F9w"
      }
    },
    {
      "cell_type": "markdown",
      "source": [
        "The following code calculates the distribution of passenger classes among survivors and nonsurvivors. It first groups the dataset by the 'Survived' and 'Pclass' columns and calculates the occurnces of each group. Then it rearranges the grouped data to compare the distribution of passenger classes between survivors and non-survivors."
      ],
      "metadata": {
        "id": "im0l2y1PFirx"
      }
    },
    {
      "cell_type": "code",
      "source": [
        "# Pclass-wise Distribution among Survivors and Non-survivors\n",
        "pclass_distribution = titanic_df.groupby(['Survived', 'Pclass']).size().unstack()\n",
        "print(\"Distribution of Passenger Classes among Survivors and Non-survivors:\")\n",
        "print(pclass_distribution)"
      ],
      "metadata": {
        "colab": {
          "base_uri": "https://localhost:8080/"
        },
        "id": "2lVeYtGTu85W",
        "outputId": "b8fbc17a-294b-4c18-c607-87fa6de3051f"
      },
      "execution_count": null,
      "outputs": [
        {
          "output_type": "stream",
          "name": "stdout",
          "text": [
            "Distribution of Passenger Classes among Survivors and Non-survivors:\n",
            "Pclass      1   2  3\n",
            "Survived            \n",
            "0          52   3  5\n",
            "1         106  12  5\n"
          ]
        }
      ]
    },
    {
      "cell_type": "markdown",
      "source": [
        "The output shows that there were 52 non survivors from the 1st class, 3 from 2nd class, and 5 from 3rd class. 106 survivors from the 1st class, 12 from 2nd class, and 5 from 3rd class.\n",
        "\n",
        "**Insight:** Passengers in higher classes (1st and 2nd) had higher survival rates compared to 3rd class."
      ],
      "metadata": {
        "id": "gPbyMzKJBFOK"
      }
    },
    {
      "cell_type": "markdown",
      "source": [
        "### What is the distribution of fares paid by passengers?"
      ],
      "metadata": {
        "id": "3ta68AVk0J1_"
      }
    },
    {
      "cell_type": "markdown",
      "source": [
        "The following code uses the seaborn library to create a histogram. It visualizes the distribution of fares among passengers."
      ],
      "metadata": {
        "id": "WF55_-d4FzAf"
      }
    },
    {
      "cell_type": "code",
      "source": [
        "# Fare Distribution\n",
        "sns.histplot(titanic_df['Fare'], kde=True)\n",
        "plt.title('Fare Distribution')\n",
        "plt.show()"
      ],
      "metadata": {
        "colab": {
          "base_uri": "https://localhost:8080/"
        },
        "id": "ZY4ywrPgvEcE",
        "outputId": "dceab1b8-2771-40e1-865f-621a00352e01"
      },
      "execution_count": null,
      "outputs": [
        {
          "output_type": "display_data",
          "data": {
            "text/plain": [
              "<Figure size 640x480 with 1 Axes>"
            ],
            "image/png": "[encoded data removed]"
          },
          "metadata": {}
        }
      ]
    },
    {
      "cell_type": "markdown",
      "source": [
        "The output shows a histogram showing the distribution of fares on the dataset. This offers insights into the economic diversity among passengers. Which will assist in understanding the following code:"
      ],
      "metadata": {
        "id": "HkuuN9xuF5OT"
      }
    },
    {
      "cell_type": "markdown",
      "source": [
        "### Did fares play a role in their survival?"
      ],
      "metadata": {
        "id": "IYKz4l_a0OZp"
      }
    },
    {
      "cell_type": "markdown",
      "source": [
        "The following code creates a boxplot to visualize the relationship between 'Fare' and 'Survived' columns using the seaborn library."
      ],
      "metadata": {
        "id": "FJn-DPXtF_5F"
      }
    },
    {
      "cell_type": "code",
      "source": [
        "# Fare vs Survival\n",
        "sns.boxplot(x='Survived', y='Fare', data=titanic_df)\n",
        "plt.title('Fare vs Survival')\n",
        "plt.show()"
      ],
      "metadata": {
        "colab": {
          "base_uri": "https://localhost:8080/"
        },
        "id": "6TpMTuBI0O3X",
        "outputId": "c9753006-1d00-42b8-f712-620a06c495f6"
      },
      "execution_count": null,
      "outputs": [
        {
          "output_type": "display_data",
          "data": {
            "text/plain": [
              "<Figure size 640x480 with 1 Axes>"
            ],
            "image/png": "[encoded data removed]"
          },
          "metadata": {}
        }
      ]
    },
    {
      "cell_type": "markdown",
      "source": [
        "The output shows a comparison of the fare distribution of passengers who did not survive and those who survived. This helps understand whether fare paid might be associated with survival rate on the Titanic. The yellow area indicates that there are many datapoints there. As it is seen the yellow area is higher than the blue area which ultimately means fares played a small role in survival.\n",
        "\n",
        "**Insight:** The distribution of fares varied, and there's a visible trend that higher fares might be associated with higher survival. This shows that fare information can be used as an additional factor in emergency response planning."
      ],
      "metadata": {
        "id": "mEQ0gd1iBR7j"
      }
    },
    {
      "cell_type": "markdown",
      "source": [
        "### What is the average age of passengers?"
      ],
      "metadata": {
        "id": "8Jau6N3t0kRA"
      }
    },
    {
      "cell_type": "markdown",
      "source": [
        "The following code calculates the average age of passengers in the dataset. It first calculates the mean of the 'Age' column. Then sums all ages and divides them by the total number of passengers with the available age information."
      ],
      "metadata": {
        "id": "cEB6EXaTGUVA"
      }
    },
    {
      "cell_type": "code",
      "source": [
        "# Average Age\n",
        "average_age = titanic_df['Age'].mean()\n",
        "print(\"Average Age of Passengers:\", average_age)"
      ],
      "metadata": {
        "colab": {
          "base_uri": "https://localhost:8080/"
        },
        "id": "X9z0QJrCvQAI",
        "outputId": "5f03431a-1d41-452a-a0d4-3088624b1040"
      },
      "execution_count": null,
      "outputs": [
        {
          "output_type": "stream",
          "name": "stdout",
          "text": [
            "Average Age of Passengers: 35.6744262295082\n"
          ]
        }
      ]
    },
    {
      "cell_type": "markdown",
      "source": [
        "The output shows that on average the passengers in the Titanic were aged around 35 years old.\n",
        "\n",
        "**Insight:** The average age of passengers was 35.67. The age distribution affects planning for the needs of different age groups"
      ],
      "metadata": {
        "id": "TxKsTlpcBe3Y"
      }
    },
    {
      "cell_type": "markdown",
      "source": [
        "### What is the overall survival rate?"
      ],
      "metadata": {
        "id": "mPbxvsom0k2Y"
      }
    },
    {
      "cell_type": "markdown",
      "source": [
        "The following code calculates the overall survival rate of passengers on the Titanic. It first calculates the 'mean' of the Survived column."
      ],
      "metadata": {
        "id": "1EjNf0PfGfJR"
      }
    },
    {
      "cell_type": "code",
      "source": [
        "# Overall Survival Rate\n",
        "overall_survival_rate = titanic_df['Survived'].mean()\n",
        "print(\"Overall Survival Rate:\", overall_survival_rate)"
      ],
      "metadata": {
        "colab": {
          "base_uri": "https://localhost:8080/"
        },
        "id": "oDkWt1vyvVxs",
        "outputId": "590ae683-c3ad-4494-d52c-ae4b82ce8336"
      },
      "execution_count": null,
      "outputs": [
        {
          "output_type": "stream",
          "name": "stdout",
          "text": [
            "Overall Survival Rate: 0.6721311475409836\n"
          ]
        }
      ]
    },
    {
      "cell_type": "markdown",
      "source": [
        "The ouput shows that the overall survival rate is 0.67 which is approximately 67%.\n",
        "\n",
        "**Insight:** The overall survival rate was 67.2%."
      ],
      "metadata": {
        "id": "WpVGWEaYBiaB"
      }
    },
    {
      "cell_type": "markdown",
      "source": [
        "### How many passengers embarked from each port (C = Cherbourg, Q = Queenstown, S = Southampton)?"
      ],
      "metadata": {
        "id": "Orn_9buw0lj_"
      }
    },
    {
      "cell_type": "markdown",
      "source": [
        "The following code explains the distribution of passengers embarked from each port."
      ],
      "metadata": {
        "id": "L8qrIwQ9Gp9A"
      }
    },
    {
      "cell_type": "code",
      "source": [
        "# Passengers embarked from each port\n",
        "embarkation_counts = titanic_df['Embarked'].value_counts()\n",
        "print(\"Passengers Embarked from Each Port:\")\n",
        "print(embarkation_counts)"
      ],
      "metadata": {
        "colab": {
          "base_uri": "https://localhost:8080/"
        },
        "id": "HPjWp21AvXMZ",
        "outputId": "2b72126c-6c91-4273-c77f-d09ef0e71797"
      },
      "execution_count": null,
      "outputs": [
        {
          "output_type": "stream",
          "name": "stdout",
          "text": [
            "Passengers Embarked from Each Port:\n",
            "S    116\n",
            "C     65\n",
            "Q      2\n",
            "Name: Embarked, dtype: int64\n"
          ]
        }
      ]
    },
    {
      "cell_type": "markdown",
      "source": [
        "The following output calculates the number of passengers who embarked from each port. It groups the ports by the following letters: ('S','C','Q') the results are ('116', '65', '2') respectively."
      ],
      "metadata": {
        "id": "re4Ts6HJGtah"
      }
    },
    {
      "cell_type": "markdown",
      "source": [
        "### Did the port of embarkation impact survival rates?"
      ],
      "metadata": {
        "id": "dLrl0R-w1WTt"
      }
    },
    {
      "cell_type": "markdown",
      "source": [
        "The following code focuses on the survival rate of the passengers based on the embarkation ports. It uses 'groupby' function to group the data by embarkation point then calculates the average survival for each embarkation point."
      ],
      "metadata": {
        "id": "VhSJy1HxGxrh"
      }
    },
    {
      "cell_type": "code",
      "source": [
        "# Embarkation-wise Survival Rate\n",
        "embarkation_survival_rate = titanic_df.groupby('Embarked')['Survived'].mean()\n",
        "print(\"\\nSurvival Rate by Embarkation Port:\")\n",
        "print(embarkation_survival_rate)"
      ],
      "metadata": {
        "colab": {
          "base_uri": "https://localhost:8080/"
        },
        "id": "vpXCi9fw1Y5b",
        "outputId": "b393ed27-1454-4b9c-c0fb-7b006c47a223"
      },
      "execution_count": null,
      "outputs": [
        {
          "output_type": "stream",
          "name": "stdout",
          "text": [
            "\n",
            "Survival Rate by Embarkation Port:\n",
            "Embarked\n",
            "C    0.738462\n",
            "Q    0.500000\n",
            "S    0.637931\n",
            "Name: Survived, dtype: float64\n"
          ]
        }
      ]
    },
    {
      "cell_type": "markdown",
      "source": [
        "The output shows the survival rate of each embarkation port. 73% for port C, 50% for port Q, around 64% for port S.\n",
        "\n",
        "**Insight:** Passengers who embarked from Cherbourg had the highest survival rate (73.8%), followed by Southampton (63.8%) and Queenstown (50%)."
      ],
      "metadata": {
        "id": "ffaPwHH9B4k9"
      }
    },
    {
      "cell_type": "markdown",
      "source": [
        "### What was the distribution of cabin classes?"
      ],
      "metadata": {
        "id": "plHFVp9t0mMk"
      }
    },
    {
      "cell_type": "markdown",
      "source": [
        "The following code focuses on the distribution of cabin classes. It the first letter from the 'Cabin' column to create a new column 'CabinClass'. Then it counts the occurences of each cabin class and visualizes the distribution using a bar plot."
      ],
      "metadata": {
        "id": "fGAJpYYdG95m"
      }
    },
    {
      "cell_type": "code",
      "source": [
        "# Extract the first letter of the Cabin column to create a CabinClass column\n",
        "titanic_df['CabinClass'] = titanic_df['Cabin'].str[0]\n",
        "\n",
        "# Count the number of occurrences of each cabin class\n",
        "cabin_distribution = titanic_df['CabinClass'].value_counts()\n",
        "\n",
        "# Plot the distribution of cabins\n",
        "plt.figure(figsize=(10, 6))\n",
        "sns.barplot(x=cabin_distribution.index, y=cabin_distribution.values, palette=\"viridis\")\n",
        "plt.title('Distribution of Cabins in the Titanic')\n",
        "plt.xlabel('Cabin Class')\n",
        "plt.ylabel('Count')\n",
        "plt.show()"
      ],
      "metadata": {
        "colab": {
          "base_uri": "https://localhost:8080/"
        },
        "id": "oN-ChQ_WviIK",
        "outputId": "00785d23-7b3d-49cd-808c-dc5b431f4fe7"
      },
      "execution_count": null,
      "outputs": [
        {
          "output_type": "display_data",
          "data": {
            "text/plain": [
              "<Figure size 1000x600 with 1 Axes>"
            ],
            "image/png": "[encoded data removed]"
          },
          "metadata": {}
        }
      ]
    },
    {
      "cell_type": "markdown",
      "source": [
        "The output shows the distribution of cabin classes among the Titanic with the count of cabins in each cabin class."
      ],
      "metadata": {
        "id": "50CLf7BjHEZS"
      }
    },
    {
      "cell_type": "markdown",
      "source": [
        "### How did the survival rates vary among different cabin classes and decks?"
      ],
      "metadata": {
        "id": "EFt4oyY70n-V"
      }
    },
    {
      "cell_type": "markdown",
      "source": [
        "The following code focuses on the survival rate of passengers based on their cabin classes. It groups the data by cabin class and calculates the mean survival rate for each group."
      ],
      "metadata": {
        "id": "lgiAuwlPHOnJ"
      }
    },
    {
      "cell_type": "code",
      "source": [
        "# Cabin Class-wise Survival Rate\n",
        "cabin_class_survival_rate = titanic_df.groupby('CabinClass')['Survived'].mean()\n",
        "print(cabin_class_survival_rate)"
      ],
      "metadata": {
        "colab": {
          "base_uri": "https://localhost:8080/"
        },
        "id": "Rg3iSElf0oYR",
        "outputId": "791063c3-0d5e-4483-8caf-09e08355be18"
      },
      "execution_count": null,
      "outputs": [
        {
          "output_type": "stream",
          "name": "stdout",
          "text": [
            "CabinClass\n",
            "A    0.583333\n",
            "B    0.744186\n",
            "C    0.588235\n",
            "D    0.741935\n",
            "E    0.733333\n",
            "F    0.636364\n",
            "G    0.500000\n",
            "T    0.000000\n",
            "Name: Survived, dtype: float64\n"
          ]
        }
      ]
    },
    {
      "cell_type": "markdown",
      "source": [
        "The output shows that cabin B had the highest survival rate at 74.4%. and cabin T had the lowest survival rate at 0%.\n",
        "\n",
        "**Insight:** Cabins of class B, D, and E had higher survival rates, while class G had the lowest. Layout and location of cabins might have affected survival factors."
      ],
      "metadata": {
        "id": "afG2i2TCB_zn"
      }
    },
    {
      "cell_type": "markdown",
      "source": [
        "### Can we identify any patterns or trends in the names or titles of passengers that might be correlated with survival?"
      ],
      "metadata": {
        "id": "gdoUNaRx0q2J"
      }
    },
    {
      "cell_type": "markdown",
      "source": [
        "The following code extracts titles from passenger names and looks into the survival rate based on these titles. It extracts titles from the 'Name' column and then calculates the average survival for each title category."
      ],
      "metadata": {
        "id": "lZ6OUI0qHXQn"
      }
    },
    {
      "cell_type": "code",
      "source": [
        "# Extracting titles from names\n",
        "titanic_df['Title'] = titanic_df['Name'].str.extract(' ([A-Za-z]+)\\.')\n",
        "\n",
        "# Title-wise Survival Rate\n",
        "title_survival_rate = titanic_df.groupby('Title')['Survived'].mean()\n",
        "print(\"Survival Rate by Title (in percentage):\")\n",
        "print(title_survival_rate)"
      ],
      "metadata": {
        "colab": {
          "base_uri": "https://localhost:8080/"
        },
        "id": "PBC3ihHkv_PA",
        "outputId": "3c0c46f9-6897-455f-a7f8-7425d8ebf9b2"
      },
      "execution_count": null,
      "outputs": [
        {
          "output_type": "stream",
          "name": "stdout",
          "text": [
            "Survival Rate by Title (in percentage):\n",
            "Title\n",
            "Capt        0.000000\n",
            "Col         1.000000\n",
            "Countess    1.000000\n",
            "Dr          0.666667\n",
            "Lady        1.000000\n",
            "Major       0.500000\n",
            "Master      1.000000\n",
            "Miss        0.931818\n",
            "Mlle        1.000000\n",
            "Mme         1.000000\n",
            "Mr          0.370370\n",
            "Mrs         0.921053\n",
            "Sir         1.000000\n",
            "Name: Survived, dtype: float64\n"
          ]
        }
      ]
    },
    {
      "cell_type": "markdown",
      "source": [
        "The output shows that the Capt title which stands for captain has a 0 survival rate. Whereas, a title like Lady has a full survival rate as they got 1. So if there is a 1 with the title that means they definetly survived. This shows that people of higher class definitely survived and women were more likely to survive. This also backs the previous relation between fare and survival rate.\n",
        "\n",
        "**Insight:** Passengers with titles like \"Miss,\" \"Mrs,\" and \"Mlle\" had high survival rates, while titles like \"Mr\" had a lower rate. In this emergency situation, individuals with titles are associated with higher survival rates."
      ],
      "metadata": {
        "id": "U2t71w_KCF2J"
      }
    },
    {
      "cell_type": "markdown",
      "source": [
        "### Find the number of people in each cabin in the Titanic"
      ],
      "metadata": {
        "id": "R_1HRtZa0rhd"
      }
    },
    {
      "cell_type": "markdown",
      "source": [
        "The following code creates a dictionary where keys represent the count of occurences of each cabin and values are lists of cabins with that count."
      ],
      "metadata": {
        "id": "NdPZa_MrHlQi"
      }
    },
    {
      "cell_type": "code",
      "source": [
        "# Count the number of occurrences of each unique cabin\n",
        "cabin_distribution = titanic_df['Cabin'].value_counts()\n",
        "\n",
        "# Create a dictionary to store cabins grouped by count\n",
        "count_cabins_dict = {}\n",
        "for cabin, count in cabin_distribution.items():\n",
        "    if count not in count_cabins_dict:\n",
        "        count_cabins_dict[count] = [cabin]\n",
        "    else:\n",
        "        count_cabins_dict[count].append(cabin)\n",
        "\n",
        "# Print counts along with cabins having that count, starting from count 1\n",
        "for count in range(1, max(count_cabins_dict.keys()) + 1):\n",
        "    if count in count_cabins_dict:\n",
        "        cabins_str = ', '.join(count_cabins_dict[count])\n",
        "        print(f\"{count} - {cabins_str}\")"
      ],
      "metadata": {
        "colab": {
          "base_uri": "https://localhost:8080/"
        },
        "id": "SwWy3XLDwFK8",
        "outputId": "dcb3b022-7fd6-4660-f443-00fe6553a31c"
      },
      "execution_count": null,
      "outputs": [
        {
          "output_type": "stream",
          "name": "stdout",
          "text": [
            "1 - B50, A26, C85, A23, D9, D50, E58, D19, A20, B41, E68, A10, C101, A16, C70, C86, D48, C126, B71, D49, B42, C50, A24, E17, D28, E49, B69, A36, B82 B84, D6, B3, E77, D11, D30, C46, B101, C45, B38, C90, C62 C64, F G63, B39, C52, B73, B19, C118, C99, B94, C87, D15, A31, B80, B4, C49, A7, B86, D46, D47, C110, D10 D12, A5, E31, B30, A6, D56, C103, E46, D7, E36, C54, C7, B79, C30, B37, E63, E12, E38, C92, C111, C104, A34, E10, C82, E50, D37, E33, T, E40, C91, C124, C32, E34, C148\n",
            "2 - B35, C65, F4, E44, C123, D36, E121, C93, C78, D35, E8, B77, E67, C125, C2, B57 B59 B63 B66, E24, F G73, B22, E25, B51 B53 B55, D20, D33, B18, C83, B49, B5, C68, D26, D17, B58 B60, E101, B20\n",
            "3 - F33, D, C22 C26, F2\n",
            "4 - G6, B96 B98, C23 C25 C27\n"
          ]
        }
      ]
    },
    {
      "cell_type": "markdown",
      "source": [
        "The output shows a dictonary with the number of people in the cabin as the key and number of cabins as values. It shows the cabins that had one person in them, 2 people, 3 people, and 4 people.\n",
        "\n",
        "**Insight:** Cabins with counts of 1 to 4 are diverse, and some cabins are shared by multiple passengers. The cabin distribution helps to understand the spatial arrangement and potential impact on evacuation."
      ],
      "metadata": {
        "id": "H4aZ_E6Q3mEY"
      }
    },
    {
      "cell_type": "markdown",
      "source": [
        "\n",
        "##**Conclusion**:\n",
        "\n",
        "In the tragedy of the Titanic, various factors influenced survival rates. Gender, age, passenger class, fare, embarkation port, cabin class, and titles played crucial roles. Females and children were more likely to survive, while first-class passengers and those with higher fares had better odds. The spatial arrangement of cabins, embarkation from Cherbourg, and specific titles also contributed to survival disparities.\n",
        "\n",
        "In emergency preparedness, understanding these factors is crucial. Allocation of resources, prioritization in evacuation plans, and tailored approaches for different groups can enhance the chances of survival. The insights derived from the analysis provide a nuanced understanding of the Titanic's passengers, aiding in creating more effective and inclusive emergency response strategies."
      ],
      "metadata": {
        "id": "vnONOsiP5gop"
      }
    },
    {
      "cell_type": "markdown",
      "source": [
        "## **My Personal Thoughts and Insights**:\n",
        "\n",
        "I collaborated with four fellow students, forming a team of five individuals. The team consisted of Advika Sadineni, David Jotkus, Siddaradh Tekumalla, and Julio Born. Our decision to explore the Kaggle platform was inspired by a classroom discussion led by our professor, where we collectively agreed to focus our efforts on the Titanic dataset because it is extremely interesting and enjoyable to work with. Despite its commonality in data analysis, we took a unique spin on it, digging deep into its many layers.\n",
        "\n",
        "To initiate the project, we set up a Zoom meeting to hash out the projects plan and figure out who’s tackling what. Initially, I took on the task of coordinating the meetings logistics, sharing the link, and making sure everyone was on board. Ahead of the meeting, we reviewed the dataset, ensuring a comprehensive understanding among all team members.\n",
        "\n",
        "During the meeting, we brainstormed a list of questions to answer about the dataset, we eventually narrowed them down to 13 questions. We communicated via a Teams chat, a shared Jupyter notebook for collective editing, and an initial attempt at collaboration within a single repository, which, unfortunately, proved to be cumbersome and was striked out of the project.\n",
        "\n",
        "The entire project spanned slightly over two days. When formatting the project we followed the format of the case example provided by our professor, Prof. Mathias Fonkam, we structured our notebook accordingly. **My responsibilities within the team were coming up with questions(inquiries), refining them, assisting with coding and visualization, and writing introductions and conclusions for each code cell.** *italicized text* This collaborative effort resulted in a unique comprehensive exploration of the Titanic dataset."
      ],
      "metadata": {
        "id": "VkVFaR5nHzPw"
      }
    }
  ]
}